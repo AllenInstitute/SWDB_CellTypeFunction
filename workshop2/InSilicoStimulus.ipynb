{
 "cells": [
  {
   "cell_type": "code",
   "execution_count": 5,
   "id": "abda69bf-7db4-480d-856b-80ea773a8a3e",
   "metadata": {
    "editable": true,
    "slideshow": {
     "slide_type": ""
    },
    "tags": []
   },
   "outputs": [],
   "source": [
    "import numpy as np\n",
    "import os\n",
    "data_dir = '/data/microns_in_silico/'\n",
    "resp=np.load(os.path.join(data_dir, 'nat_resp.npy'))"
   ]
  },
  {
   "cell_type": "code",
   "execution_count": 3,
   "id": "679f8e03-7711-4afd-ad5c-891c9cabc21f",
   "metadata": {},
   "outputs": [],
   "source": []
  },
  {
   "cell_type": "code",
   "execution_count": 6,
   "id": "b2820b88-a31a-455f-af7c-da337c1bcd6b",
   "metadata": {},
   "outputs": [],
   "source": [
    "\n",
    "        "
   ]
  },
  {
   "cell_type": "code",
   "execution_count": 8,
   "id": "d08c06a1-a0cb-4527-aee2-a0567f363a58",
   "metadata": {},
   "outputs": [
    {
     "data": {
      "text/plain": [
       "(104171, 5000)"
      ]
     },
     "execution_count": 8,
     "metadata": {},
     "output_type": "execute_result"
    }
   ],
   "source": [
    "resp.shape"
   ]
  },
  {
   "cell_type": "code",
   "execution_count": 9,
   "id": "246cf746-ceee-4486-bf74-2279b1740fad",
   "metadata": {},
   "outputs": [],
   "source": [
    "import sys"
   ]
  },
  {
   "cell_type": "code",
   "execution_count": 10,
   "id": "0bf22d77-fcc0-45f4-97a1-7e57e47d9a7b",
   "metadata": {},
   "outputs": [
    {
     "data": {
      "text/plain": [
       "'linux'"
      ]
     },
     "execution_count": 10,
     "metadata": {},
     "output_type": "execute_result"
    }
   ],
   "source": [
    "sys.platform"
   ]
  },
  {
   "cell_type": "code",
   "execution_count": 18,
   "id": "b4ffe3d8-7310-40e6-a959-e2da72fe3890",
   "metadata": {},
   "outputs": [],
   "source": [
    "import platform"
   ]
  },
  {
   "cell_type": "code",
   "execution_count": 22,
   "id": "47d4e1f7-e014-4612-ad4f-450f8444d796",
   "metadata": {},
   "outputs": [
    {
     "data": {
      "text/plain": [
       "'Linux-4.14.318-241.531.amzn2.x86_64-x86_64-with-glibc2.35'"
      ]
     },
     "execution_count": 22,
     "metadata": {},
     "output_type": "execute_result"
    }
   ],
   "source": [
    "platform.platform()"
   ]
  },
  {
   "cell_type": "code",
   "execution_count": null,
   "id": "75a3167f-cb1a-4dc0-a027-ab1cf4896945",
   "metadata": {},
   "outputs": [],
   "source": []
  }
 ],
 "metadata": {
  "kernelspec": {
   "display_name": "Python 3 (ipykernel)",
   "language": "python",
   "name": "python3"
  },
  "language_info": {
   "codemirror_mode": {
    "name": "ipython",
    "version": 3
   },
   "file_extension": ".py",
   "mimetype": "text/x-python",
   "name": "python",
   "nbconvert_exporter": "python",
   "pygments_lexer": "ipython3",
   "version": "3.10.9"
  }
 },
 "nbformat": 4,
 "nbformat_minor": 5
}
