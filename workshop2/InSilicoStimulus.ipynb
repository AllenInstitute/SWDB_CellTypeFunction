{
 "cells": [
  {
   "cell_type": "code",
   "execution_count": null,
   "id": "abda69bf-7db4-480d-856b-80ea773a8a3e",
   "metadata": {
    "editable": true,
    "slideshow": {
     "slide_type": ""
    },
    "tags": []
   },
   "outputs": [],
   "source": [
    "import numpy as np\n",
    "import os\n",
    "import platform\n",
    "import caveclient\n",
    "import pandas as pd\n",
    "plat = platform.platform()"
   ]
  },
  {
   "cell_type": "code",
   "execution_count": null,
   "id": "679f8e03-7711-4afd-ad5c-891c9cabc21f",
   "metadata": {},
   "outputs": [],
   "source": [
    "if 'amzn' in plat:\n",
    "    data_dir = '/data/microns_in_silico/'\n",
    "else:\n",
    "    data_dir = '/data/microns_in_silico/'\n",
    "\n",
    "data_dir = '/Users/forrestc/Downloads/microns_in_silico/'"
   ]
  },
  {
   "cell_type": "code",
   "execution_count": null,
   "id": "b2820b88-a31a-455f-af7c-da337c1bcd6b",
   "metadata": {},
   "outputs": [],
   "source": [
    "\n",
    "resp=np.load(os.path.join(data_dir, 'nat_resp.npy'))"
   ]
  },
  {
   "cell_type": "code",
   "execution_count": null,
   "id": "b2cb0ec6",
   "metadata": {},
   "outputs": [],
   "source": [
    "client= caveclient.CAVEclient('minnie65_public')\n"
   ]
  },
  {
   "cell_type": "code",
   "execution_count": 12,
   "id": "fe3aa9cb",
   "metadata": {},
   "outputs": [
    {
     "data": {
      "text/plain": [
       "['synapses_pni_2',\n",
       " 'baylor_gnn_cell_type_fine_model_v2',\n",
       " 'nucleus_alternative_points',\n",
       " 'connectivity_groups_v507',\n",
       " 'proofreading_status_public_release',\n",
       " 'allen_column_mtypes_v1',\n",
       " 'allen_v1_column_types_slanted_ref',\n",
       " 'aibs_column_nonneuronal_ref',\n",
       " 'nucleus_ref_neuron_svm',\n",
       " 'aibs_soma_nuc_exc_mtype_preds_v117',\n",
       " 'baylor_log_reg_cell_type_coarse_v1',\n",
       " 'apl_functional_coreg_forward_v5',\n",
       " 'nucleus_detection_v0',\n",
       " 'aibs_soma_nuc_metamodel_preds_v117',\n",
       " 'coregistration_manual_v3']"
      ]
     },
     "execution_count": 12,
     "metadata": {},
     "output_type": "execute_result"
    }
   ],
   "source": [
    "client.materialize.get_tables()"
   ]
  },
  {
   "cell_type": "code",
   "execution_count": 14,
   "id": "b8a7691d",
   "metadata": {},
   "outputs": [],
   "source": [
    "coreg_df = client.materialize.query_table('coregistration_manual_v3')"
   ]
  },
  {
   "cell_type": "code",
   "execution_count": 19,
   "id": "5e20ceb5",
   "metadata": {},
   "outputs": [],
   "source": [
    "units_df = pd.read_csv(os.path.join(data_dir, 'nat_unit.csv'))"
   ]
  },
  {
   "cell_type": "code",
   "execution_count": 25,
   "id": "646d3f1d",
   "metadata": {},
   "outputs": [
    {
     "data": {
      "text/plain": [
       "((104171, 5), (13925, 19))"
      ]
     },
     "execution_count": 25,
     "metadata": {},
     "output_type": "execute_result"
    }
   ],
   "source": [
    "units_df.shape, coreg_df.shape"
   ]
  },
  {
   "cell_type": "code",
   "execution_count": 26,
   "id": "cb77097a",
   "metadata": {},
   "outputs": [
    {
     "data": {
      "text/plain": [
       "Index(['animal_id', 'scan_session', 'scan_idx', 'unit_id', 'row_idx'], dtype='object')"
      ]
     },
     "execution_count": 26,
     "metadata": {},
     "output_type": "execute_result"
    }
   ],
   "source": [
    "units_df.columns"
   ]
  },
  {
   "cell_type": "code",
   "execution_count": 27,
   "id": "175febe9",
   "metadata": {},
   "outputs": [
    {
     "data": {
      "text/plain": [
       "Index(['id', 'created', 'valid', 'target_id', 'session', 'scan_idx', 'unit_id',\n",
       "       'field', 'residual', 'score', 'id_ref', 'created_ref', 'valid_ref',\n",
       "       'volume', 'pt_supervoxel_id', 'pt_root_id', 'pt_position',\n",
       "       'bb_start_position', 'bb_end_position'],\n",
       "      dtype='object')"
      ]
     },
     "execution_count": 27,
     "metadata": {},
     "output_type": "execute_result"
    }
   ],
   "source": [
    "coreg_df.columns"
   ]
  },
  {
   "cell_type": "code",
   "execution_count": 29,
   "id": "50772975",
   "metadata": {},
   "outputs": [],
   "source": [
    "coreg_in_silico=pd.merge(units_df, coreg_df, \n",
    "         left_on=['scan_session', 'scan_idx', 'unit_id'],\n",
    "          right_on=['session','scan_idx', 'unit_id'])"
   ]
  },
  {
   "cell_type": "code",
   "execution_count": 30,
   "id": "5e7f993b",
   "metadata": {},
   "outputs": [
    {
     "data": {
      "text/html": [
       "<div>\n",
       "<style scoped>\n",
       "    .dataframe tbody tr th:only-of-type {\n",
       "        vertical-align: middle;\n",
       "    }\n",
       "\n",
       "    .dataframe tbody tr th {\n",
       "        vertical-align: top;\n",
       "    }\n",
       "\n",
       "    .dataframe thead th {\n",
       "        text-align: right;\n",
       "    }\n",
       "</style>\n",
       "<table border=\"1\" class=\"dataframe\">\n",
       "  <thead>\n",
       "    <tr style=\"text-align: right;\">\n",
       "      <th></th>\n",
       "      <th>animal_id</th>\n",
       "      <th>scan_session</th>\n",
       "      <th>scan_idx</th>\n",
       "      <th>unit_id</th>\n",
       "      <th>row_idx</th>\n",
       "      <th>id</th>\n",
       "      <th>created</th>\n",
       "      <th>valid</th>\n",
       "      <th>target_id</th>\n",
       "      <th>session</th>\n",
       "      <th>...</th>\n",
       "      <th>score</th>\n",
       "      <th>id_ref</th>\n",
       "      <th>created_ref</th>\n",
       "      <th>valid_ref</th>\n",
       "      <th>volume</th>\n",
       "      <th>pt_supervoxel_id</th>\n",
       "      <th>pt_root_id</th>\n",
       "      <th>pt_position</th>\n",
       "      <th>bb_start_position</th>\n",
       "      <th>bb_end_position</th>\n",
       "    </tr>\n",
       "  </thead>\n",
       "  <tbody>\n",
       "    <tr>\n",
       "      <th>0</th>\n",
       "      <td>17797</td>\n",
       "      <td>4</td>\n",
       "      <td>7</td>\n",
       "      <td>648</td>\n",
       "      <td>517</td>\n",
       "      <td>2043</td>\n",
       "      <td>2023-04-05 22:38:59.933339+00:00</td>\n",
       "      <td>t</td>\n",
       "      <td>516506</td>\n",
       "      <td>4</td>\n",
       "      <td>...</td>\n",
       "      <td>11.443982</td>\n",
       "      <td>516506</td>\n",
       "      <td>2020-09-28 22:44:43.650751+00:00</td>\n",
       "      <td>t</td>\n",
       "      <td>276.767375</td>\n",
       "      <td>105487283075464806</td>\n",
       "      <td>864691135348268503</td>\n",
       "      <td>[296208, 94688, 15803]</td>\n",
       "      <td>[nan, nan, nan]</td>\n",
       "      <td>[nan, nan, nan]</td>\n",
       "    </tr>\n",
       "    <tr>\n",
       "      <th>1</th>\n",
       "      <td>17797</td>\n",
       "      <td>4</td>\n",
       "      <td>7</td>\n",
       "      <td>662</td>\n",
       "      <td>530</td>\n",
       "      <td>10173</td>\n",
       "      <td>2023-04-05 22:39:40.786518+00:00</td>\n",
       "      <td>t</td>\n",
       "      <td>452329</td>\n",
       "      <td>4</td>\n",
       "      <td>...</td>\n",
       "      <td>12.006788</td>\n",
       "      <td>452329</td>\n",
       "      <td>2020-09-28 22:45:02.852190+00:00</td>\n",
       "      <td>t</td>\n",
       "      <td>311.618437</td>\n",
       "      <td>101758289725398433</td>\n",
       "      <td>864691135700505634</td>\n",
       "      <td>[269248, 98832, 18382]</td>\n",
       "      <td>[nan, nan, nan]</td>\n",
       "      <td>[nan, nan, nan]</td>\n",
       "    </tr>\n",
       "    <tr>\n",
       "      <th>2</th>\n",
       "      <td>17797</td>\n",
       "      <td>4</td>\n",
       "      <td>7</td>\n",
       "      <td>665</td>\n",
       "      <td>533</td>\n",
       "      <td>10871</td>\n",
       "      <td>2023-04-05 22:39:41.400499+00:00</td>\n",
       "      <td>t</td>\n",
       "      <td>451461</td>\n",
       "      <td>4</td>\n",
       "      <td>...</td>\n",
       "      <td>15.025886</td>\n",
       "      <td>451461</td>\n",
       "      <td>2020-09-28 22:41:51.543636+00:00</td>\n",
       "      <td>t</td>\n",
       "      <td>263.504036</td>\n",
       "      <td>102531727972419182</td>\n",
       "      <td>864691135776919981</td>\n",
       "      <td>[274864, 94064, 22046]</td>\n",
       "      <td>[nan, nan, nan]</td>\n",
       "      <td>[nan, nan, nan]</td>\n",
       "    </tr>\n",
       "    <tr>\n",
       "      <th>3</th>\n",
       "      <td>17797</td>\n",
       "      <td>4</td>\n",
       "      <td>7</td>\n",
       "      <td>671</td>\n",
       "      <td>539</td>\n",
       "      <td>8088</td>\n",
       "      <td>2023-04-05 22:39:27.234487+00:00</td>\n",
       "      <td>t</td>\n",
       "      <td>420222</td>\n",
       "      <td>4</td>\n",
       "      <td>...</td>\n",
       "      <td>21.035651</td>\n",
       "      <td>420222</td>\n",
       "      <td>2020-09-28 22:45:01.445495+00:00</td>\n",
       "      <td>t</td>\n",
       "      <td>309.882880</td>\n",
       "      <td>100491446037118564</td>\n",
       "      <td>864691135472842290</td>\n",
       "      <td>[259936, 97360, 16974]</td>\n",
       "      <td>[nan, nan, nan]</td>\n",
       "      <td>[nan, nan, nan]</td>\n",
       "    </tr>\n",
       "    <tr>\n",
       "      <th>4</th>\n",
       "      <td>17797</td>\n",
       "      <td>4</td>\n",
       "      <td>7</td>\n",
       "      <td>682</td>\n",
       "      <td>549</td>\n",
       "      <td>1480</td>\n",
       "      <td>2023-04-05 22:36:19.482289+00:00</td>\n",
       "      <td>t</td>\n",
       "      <td>420058</td>\n",
       "      <td>4</td>\n",
       "      <td>...</td>\n",
       "      <td>2.794440</td>\n",
       "      <td>420058</td>\n",
       "      <td>2020-09-28 22:44:36.438460+00:00</td>\n",
       "      <td>t</td>\n",
       "      <td>267.026432</td>\n",
       "      <td>98661652329244694</td>\n",
       "      <td>864691135349237975</td>\n",
       "      <td>[246448, 95856, 15873]</td>\n",
       "      <td>[nan, nan, nan]</td>\n",
       "      <td>[nan, nan, nan]</td>\n",
       "    </tr>\n",
       "    <tr>\n",
       "      <th>...</th>\n",
       "      <td>...</td>\n",
       "      <td>...</td>\n",
       "      <td>...</td>\n",
       "      <td>...</td>\n",
       "      <td>...</td>\n",
       "      <td>...</td>\n",
       "      <td>...</td>\n",
       "      <td>...</td>\n",
       "      <td>...</td>\n",
       "      <td>...</td>\n",
       "      <td>...</td>\n",
       "      <td>...</td>\n",
       "      <td>...</td>\n",
       "      <td>...</td>\n",
       "      <td>...</td>\n",
       "      <td>...</td>\n",
       "      <td>...</td>\n",
       "      <td>...</td>\n",
       "      <td>...</td>\n",
       "      <td>...</td>\n",
       "      <td>...</td>\n",
       "    </tr>\n",
       "    <tr>\n",
       "      <th>12089</th>\n",
       "      <td>17797</td>\n",
       "      <td>9</td>\n",
       "      <td>6</td>\n",
       "      <td>5438</td>\n",
       "      <td>104115</td>\n",
       "      <td>5562</td>\n",
       "      <td>2023-04-05 22:39:09.805943+00:00</td>\n",
       "      <td>t</td>\n",
       "      <td>361561</td>\n",
       "      <td>9</td>\n",
       "      <td>...</td>\n",
       "      <td>9.632237</td>\n",
       "      <td>361561</td>\n",
       "      <td>2020-09-28 22:43:06.085841+00:00</td>\n",
       "      <td>t</td>\n",
       "      <td>236.647219</td>\n",
       "      <td>96132845176740787</td>\n",
       "      <td>864691135781887568</td>\n",
       "      <td>[228384, 128928, 22087]</td>\n",
       "      <td>[nan, nan, nan]</td>\n",
       "      <td>[nan, nan, nan]</td>\n",
       "    </tr>\n",
       "    <tr>\n",
       "      <th>12090</th>\n",
       "      <td>17797</td>\n",
       "      <td>9</td>\n",
       "      <td>6</td>\n",
       "      <td>5440</td>\n",
       "      <td>104117</td>\n",
       "      <td>4117</td>\n",
       "      <td>2023-04-05 22:39:06.773396+00:00</td>\n",
       "      <td>t</td>\n",
       "      <td>453466</td>\n",
       "      <td>9</td>\n",
       "      <td>...</td>\n",
       "      <td>7.538609</td>\n",
       "      <td>453466</td>\n",
       "      <td>2020-09-28 22:44:01.851199+00:00</td>\n",
       "      <td>t</td>\n",
       "      <td>204.619121</td>\n",
       "      <td>101902600424845804</td>\n",
       "      <td>864691135570701037</td>\n",
       "      <td>[270016, 125200, 16511]</td>\n",
       "      <td>[nan, nan, nan]</td>\n",
       "      <td>[nan, nan, nan]</td>\n",
       "    </tr>\n",
       "    <tr>\n",
       "      <th>12091</th>\n",
       "      <td>17797</td>\n",
       "      <td>9</td>\n",
       "      <td>6</td>\n",
       "      <td>5442</td>\n",
       "      <td>104118</td>\n",
       "      <td>12695</td>\n",
       "      <td>2023-04-05 22:39:50.561720+00:00</td>\n",
       "      <td>t</td>\n",
       "      <td>454429</td>\n",
       "      <td>9</td>\n",
       "      <td>...</td>\n",
       "      <td>6.338806</td>\n",
       "      <td>454429</td>\n",
       "      <td>2020-09-28 22:44:57.887482+00:00</td>\n",
       "      <td>t</td>\n",
       "      <td>302.604124</td>\n",
       "      <td>100846657952086852</td>\n",
       "      <td>864691136041523030</td>\n",
       "      <td>[262384, 122416, 24312]</td>\n",
       "      <td>[nan, nan, nan]</td>\n",
       "      <td>[nan, nan, nan]</td>\n",
       "    </tr>\n",
       "    <tr>\n",
       "      <th>12092</th>\n",
       "      <td>17797</td>\n",
       "      <td>9</td>\n",
       "      <td>6</td>\n",
       "      <td>5445</td>\n",
       "      <td>104121</td>\n",
       "      <td>3638</td>\n",
       "      <td>2023-04-05 22:39:03.595735+00:00</td>\n",
       "      <td>t</td>\n",
       "      <td>391240</td>\n",
       "      <td>9</td>\n",
       "      <td>...</td>\n",
       "      <td>6.547998</td>\n",
       "      <td>391240</td>\n",
       "      <td>2020-09-28 22:44:44.233528+00:00</td>\n",
       "      <td>t</td>\n",
       "      <td>278.654648</td>\n",
       "      <td>98172989136264833</td>\n",
       "      <td>864691135749568041</td>\n",
       "      <td>[242896, 124752, 23096]</td>\n",
       "      <td>[nan, nan, nan]</td>\n",
       "      <td>[nan, nan, nan]</td>\n",
       "    </tr>\n",
       "    <tr>\n",
       "      <th>12093</th>\n",
       "      <td>17797</td>\n",
       "      <td>9</td>\n",
       "      <td>6</td>\n",
       "      <td>5461</td>\n",
       "      <td>104136</td>\n",
       "      <td>3579</td>\n",
       "      <td>2023-04-05 22:39:03.548729+00:00</td>\n",
       "      <td>t</td>\n",
       "      <td>454708</td>\n",
       "      <td>9</td>\n",
       "      <td>...</td>\n",
       "      <td>2.309923</td>\n",
       "      <td>454708</td>\n",
       "      <td>2020-09-28 22:45:23.396731+00:00</td>\n",
       "      <td>t</td>\n",
       "      <td>421.573591</td>\n",
       "      <td>102605533227398946</td>\n",
       "      <td>864691135468833362</td>\n",
       "      <td>[275152, 119760, 26203]</td>\n",
       "      <td>[nan, nan, nan]</td>\n",
       "      <td>[nan, nan, nan]</td>\n",
       "    </tr>\n",
       "  </tbody>\n",
       "</table>\n",
       "<p>12094 rows × 22 columns</p>\n",
       "</div>"
      ],
      "text/plain": [
       "       animal_id  scan_session  scan_idx  unit_id  row_idx     id  \\\n",
       "0          17797             4         7      648      517   2043   \n",
       "1          17797             4         7      662      530  10173   \n",
       "2          17797             4         7      665      533  10871   \n",
       "3          17797             4         7      671      539   8088   \n",
       "4          17797             4         7      682      549   1480   \n",
       "...          ...           ...       ...      ...      ...    ...   \n",
       "12089      17797             9         6     5438   104115   5562   \n",
       "12090      17797             9         6     5440   104117   4117   \n",
       "12091      17797             9         6     5442   104118  12695   \n",
       "12092      17797             9         6     5445   104121   3638   \n",
       "12093      17797             9         6     5461   104136   3579   \n",
       "\n",
       "                               created valid  target_id  session  ...  \\\n",
       "0     2023-04-05 22:38:59.933339+00:00     t     516506        4  ...   \n",
       "1     2023-04-05 22:39:40.786518+00:00     t     452329        4  ...   \n",
       "2     2023-04-05 22:39:41.400499+00:00     t     451461        4  ...   \n",
       "3     2023-04-05 22:39:27.234487+00:00     t     420222        4  ...   \n",
       "4     2023-04-05 22:36:19.482289+00:00     t     420058        4  ...   \n",
       "...                                ...   ...        ...      ...  ...   \n",
       "12089 2023-04-05 22:39:09.805943+00:00     t     361561        9  ...   \n",
       "12090 2023-04-05 22:39:06.773396+00:00     t     453466        9  ...   \n",
       "12091 2023-04-05 22:39:50.561720+00:00     t     454429        9  ...   \n",
       "12092 2023-04-05 22:39:03.595735+00:00     t     391240        9  ...   \n",
       "12093 2023-04-05 22:39:03.548729+00:00     t     454708        9  ...   \n",
       "\n",
       "           score  id_ref                      created_ref  valid_ref  \\\n",
       "0      11.443982  516506 2020-09-28 22:44:43.650751+00:00          t   \n",
       "1      12.006788  452329 2020-09-28 22:45:02.852190+00:00          t   \n",
       "2      15.025886  451461 2020-09-28 22:41:51.543636+00:00          t   \n",
       "3      21.035651  420222 2020-09-28 22:45:01.445495+00:00          t   \n",
       "4       2.794440  420058 2020-09-28 22:44:36.438460+00:00          t   \n",
       "...          ...     ...                              ...        ...   \n",
       "12089   9.632237  361561 2020-09-28 22:43:06.085841+00:00          t   \n",
       "12090   7.538609  453466 2020-09-28 22:44:01.851199+00:00          t   \n",
       "12091   6.338806  454429 2020-09-28 22:44:57.887482+00:00          t   \n",
       "12092   6.547998  391240 2020-09-28 22:44:44.233528+00:00          t   \n",
       "12093   2.309923  454708 2020-09-28 22:45:23.396731+00:00          t   \n",
       "\n",
       "           volume    pt_supervoxel_id          pt_root_id  \\\n",
       "0      276.767375  105487283075464806  864691135348268503   \n",
       "1      311.618437  101758289725398433  864691135700505634   \n",
       "2      263.504036  102531727972419182  864691135776919981   \n",
       "3      309.882880  100491446037118564  864691135472842290   \n",
       "4      267.026432   98661652329244694  864691135349237975   \n",
       "...           ...                 ...                 ...   \n",
       "12089  236.647219   96132845176740787  864691135781887568   \n",
       "12090  204.619121  101902600424845804  864691135570701037   \n",
       "12091  302.604124  100846657952086852  864691136041523030   \n",
       "12092  278.654648   98172989136264833  864691135749568041   \n",
       "12093  421.573591  102605533227398946  864691135468833362   \n",
       "\n",
       "                   pt_position  bb_start_position  bb_end_position  \n",
       "0       [296208, 94688, 15803]    [nan, nan, nan]  [nan, nan, nan]  \n",
       "1       [269248, 98832, 18382]    [nan, nan, nan]  [nan, nan, nan]  \n",
       "2       [274864, 94064, 22046]    [nan, nan, nan]  [nan, nan, nan]  \n",
       "3       [259936, 97360, 16974]    [nan, nan, nan]  [nan, nan, nan]  \n",
       "4       [246448, 95856, 15873]    [nan, nan, nan]  [nan, nan, nan]  \n",
       "...                        ...                ...              ...  \n",
       "12089  [228384, 128928, 22087]    [nan, nan, nan]  [nan, nan, nan]  \n",
       "12090  [270016, 125200, 16511]    [nan, nan, nan]  [nan, nan, nan]  \n",
       "12091  [262384, 122416, 24312]    [nan, nan, nan]  [nan, nan, nan]  \n",
       "12092  [242896, 124752, 23096]    [nan, nan, nan]  [nan, nan, nan]  \n",
       "12093  [275152, 119760, 26203]    [nan, nan, nan]  [nan, nan, nan]  \n",
       "\n",
       "[12094 rows x 22 columns]"
      ]
     },
     "execution_count": 30,
     "metadata": {},
     "output_type": "execute_result"
    }
   ],
   "source": []
  },
  {
   "cell_type": "code",
   "execution_count": 31,
   "id": "d08c06a1-a0cb-4527-aee2-a0567f363a58",
   "metadata": {},
   "outputs": [
    {
     "name": "stdout",
     "output_type": "stream",
     "text": [
      "Intel MKL WARNING: Support of Intel(R) Streaming SIMD Extensions 4.2 (Intel(R) SSE4.2) enabled only processors has been deprecated. Intel oneAPI Math Kernel Library 2025.0 will require Intel(R) Advanced Vector Extensions (Intel(R) AVX) instructions.\n"
     ]
    }
   ],
   "source": [
    "# calculate the correlation matrix\n",
    "corr=np.corrcoef(resp[coreg_in_silico.row_idx,:])\n"
   ]
  },
  {
   "cell_type": "code",
   "execution_count": 38,
   "id": "5351f140",
   "metadata": {},
   "outputs": [
    {
     "data": {
      "text/plain": [
       "(146252742, 3)"
      ]
     },
     "execution_count": 38,
     "metadata": {},
     "output_type": "execute_result"
    }
   ],
   "source": [
    "# repackage the corr matrix into a long format\n",
    "# with the columns: unit_id, unit_id2, correlation\n",
    "corr_df=pd.DataFrame(corr)\n",
    "corr_df.index.name='pt_root_id'\n",
    "corr_df.reset_index(inplace=True)\n",
    "corr_df=pd.melt(corr_df, id_vars='pt_root_id', var_name='pt_root_id2', value_name='corr')\n",
    "corr_df=corr_df[corr_df.pt_root_id != corr_df.pt_root_id2]\n",
    "corr_df.shape\n"
   ]
  },
  {
   "cell_type": "code",
   "execution_count": 39,
   "id": "044e5590",
   "metadata": {},
   "outputs": [
    {
     "data": {
      "text/html": [
       "<div>\n",
       "<style scoped>\n",
       "    .dataframe tbody tr th:only-of-type {\n",
       "        vertical-align: middle;\n",
       "    }\n",
       "\n",
       "    .dataframe tbody tr th {\n",
       "        vertical-align: top;\n",
       "    }\n",
       "\n",
       "    .dataframe thead th {\n",
       "        text-align: right;\n",
       "    }\n",
       "</style>\n",
       "<table border=\"1\" class=\"dataframe\">\n",
       "  <thead>\n",
       "    <tr style=\"text-align: right;\">\n",
       "      <th></th>\n",
       "      <th>pt_root_id</th>\n",
       "      <th>pt_root_id2</th>\n",
       "      <th>corr</th>\n",
       "    </tr>\n",
       "  </thead>\n",
       "  <tbody>\n",
       "    <tr>\n",
       "      <th>1</th>\n",
       "      <td>1</td>\n",
       "      <td>0</td>\n",
       "      <td>-0.061486</td>\n",
       "    </tr>\n",
       "    <tr>\n",
       "      <th>2</th>\n",
       "      <td>2</td>\n",
       "      <td>0</td>\n",
       "      <td>-0.098622</td>\n",
       "    </tr>\n",
       "    <tr>\n",
       "      <th>3</th>\n",
       "      <td>3</td>\n",
       "      <td>0</td>\n",
       "      <td>0.009170</td>\n",
       "    </tr>\n",
       "    <tr>\n",
       "      <th>4</th>\n",
       "      <td>4</td>\n",
       "      <td>0</td>\n",
       "      <td>0.228945</td>\n",
       "    </tr>\n",
       "    <tr>\n",
       "      <th>5</th>\n",
       "      <td>5</td>\n",
       "      <td>0</td>\n",
       "      <td>0.291095</td>\n",
       "    </tr>\n",
       "    <tr>\n",
       "      <th>...</th>\n",
       "      <td>...</td>\n",
       "      <td>...</td>\n",
       "      <td>...</td>\n",
       "    </tr>\n",
       "    <tr>\n",
       "      <th>146264830</th>\n",
       "      <td>12088</td>\n",
       "      <td>12093</td>\n",
       "      <td>-0.178259</td>\n",
       "    </tr>\n",
       "    <tr>\n",
       "      <th>146264831</th>\n",
       "      <td>12089</td>\n",
       "      <td>12093</td>\n",
       "      <td>-0.094617</td>\n",
       "    </tr>\n",
       "    <tr>\n",
       "      <th>146264832</th>\n",
       "      <td>12090</td>\n",
       "      <td>12093</td>\n",
       "      <td>-0.183482</td>\n",
       "    </tr>\n",
       "    <tr>\n",
       "      <th>146264833</th>\n",
       "      <td>12091</td>\n",
       "      <td>12093</td>\n",
       "      <td>0.398349</td>\n",
       "    </tr>\n",
       "    <tr>\n",
       "      <th>146264834</th>\n",
       "      <td>12092</td>\n",
       "      <td>12093</td>\n",
       "      <td>0.086902</td>\n",
       "    </tr>\n",
       "  </tbody>\n",
       "</table>\n",
       "<p>146252742 rows × 3 columns</p>\n",
       "</div>"
      ],
      "text/plain": [
       "           pt_root_id pt_root_id2      corr\n",
       "1                   1           0 -0.061486\n",
       "2                   2           0 -0.098622\n",
       "3                   3           0  0.009170\n",
       "4                   4           0  0.228945\n",
       "5                   5           0  0.291095\n",
       "...               ...         ...       ...\n",
       "146264830       12088       12093 -0.178259\n",
       "146264831       12089       12093 -0.094617\n",
       "146264832       12090       12093 -0.183482\n",
       "146264833       12091       12093  0.398349\n",
       "146264834       12092       12093  0.086902\n",
       "\n",
       "[146252742 rows x 3 columns]"
      ]
     },
     "execution_count": 39,
     "metadata": {},
     "output_type": "execute_result"
    }
   ],
   "source": [
    "corr_df"
   ]
  },
  {
   "cell_type": "code",
   "execution_count": 17,
   "id": "c04d13a3",
   "metadata": {},
   "outputs": [
    {
     "data": {
      "image/png": "[encoded data removed]",
      "text/plain": [
       "<Figure size 640x480 with 2 Axes>"
      ]
     },
     "metadata": {},
     "output_type": "display_data"
    }
   ],
   "source": [
    "# plot the reponses as a heatmap\n",
    "import matplotlib.pyplot as plt\n",
    "plt.imshow(resp[0:1000,0:5000], vmax=100)\n",
    "plt.colorbar()\n",
    "plt.show()\n"
   ]
  },
  {
   "cell_type": "code",
   "execution_count": 33,
   "id": "246cf746-ceee-4486-bf74-2279b1740fad",
   "metadata": {},
   "outputs": [
    {
     "data": {
      "image/png": "[encoded data removed]",
      "text/plain": [
       "<Figure size 640x480 with 1 Axes>"
      ]
     },
     "metadata": {},
     "output_type": "display_data"
    }
   ],
   "source": [
    "# plot the distribution of correlations\n",
    "import matplotlib.pyplot as plt\n",
    "plt.hist(corr[np.triu_indices_from(corr,1)], bins=100)\n",
    "plt.xlabel('correlation')\n",
    "plt.ylabel('count')\n",
    "plt.show()\n"
   ]
  },
  {
   "cell_type": "code",
   "execution_count": 34,
   "id": "0bf22d77-fcc0-45f4-97a1-7e57e47d9a7b",
   "metadata": {},
   "outputs": [],
   "source": [
    "ct_df = client.materialize.query_table('aibs_soma_nuc_exc_mtype_preds_v117')"
   ]
  },
  {
   "cell_type": "code",
   "execution_count": null,
   "id": "82546b83",
   "metadata": {},
   "outputs": [],
   "source": [
    "ct_df"
   ]
  },
  {
   "cell_type": "code",
   "execution_count": 18,
   "id": "b4ffe3d8-7310-40e6-a959-e2da72fe3890",
   "metadata": {},
   "outputs": [],
   "source": [
    "import platform"
   ]
  },
  {
   "cell_type": "code",
   "execution_count": 22,
   "id": "47d4e1f7-e014-4612-ad4f-450f8444d796",
   "metadata": {},
   "outputs": [
    {
     "data": {
      "text/plain": [
       "'Linux-4.14.318-241.531.amzn2.x86_64-x86_64-with-glibc2.35'"
      ]
     },
     "execution_count": 22,
     "metadata": {},
     "output_type": "execute_result"
    }
   ],
   "source": [
    "platform.platform()"
   ]
  },
  {
   "cell_type": "code",
   "execution_count": null,
   "id": "75a3167f-cb1a-4dc0-a027-ab1cf4896945",
   "metadata": {},
   "outputs": [],
   "source": []
  }
 ],
 "metadata": {
  "kernelspec": {
   "display_name": "Python 3 (ipykernel)",
   "language": "python",
   "name": "python3"
  },
  "language_info": {
   "codemirror_mode": {
    "name": "ipython",
    "version": 3
   },
   "file_extension": ".py",
   "mimetype": "text/x-python",
   "name": "python",
   "nbconvert_exporter": "python",
   "pygments_lexer": "ipython3",
   "version": "3.9.16"
  }
 },
 "nbformat": 4,
 "nbformat_minor": 5
}
