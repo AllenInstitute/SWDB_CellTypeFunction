{
 "cells": [
  {
   "cell_type": "markdown",
   "id": "a11fa731",
   "metadata": {},
   "source": [
    "# CAVE Setup\n",
    "\n",
    "## !!! RUN THIS ONCE PER COMPUTER YOU ARE SETTING UP !!!\n",
    "\n",
    "The Connectome Annotation Versioning Engine (CAVE) supports several large scale EM datasets, and has an authentication system that regulates access to the webservices and datasets. In order to connect to the servers you have to authenticate to tell the server who you are.  \n",
    "\n",
    "When accessing the servers programatically this is done by passing a token that validates who you are.\n",
    "The server has a copy of this token, it's like a password, but the server makes it for you.\n",
    "\n",
    "You can tell the server to make a new token for you.\n",
    "\n",
    "You can tell the server to list the token it has for you.\n",
    "\n",
    "The token is a string of letters and numbers like \"ecc4casd1f70f254dwad452524bd0d0d8\" (but that one is made up)\n",
    "\n",
    "If you are using codeocean, you need to setup a secret with that token and configure your capsule to load that secret as an environment variable. \n",
    "\n",
    "If you are using your own computer you need to save this token to a file on your computer so that the caveclient can read it and pass it onto the server when interacting with it to tell it who you are.  You can't do this with codeocean because each time your run a capsule its a new computer.\n",
    "\n",
    "The CAVEclient has methods that help you do all these things, but note you might want to do different things depending on what you are trying to do.  This notebook will break down those scenarios and you can follow the one most appropriate to what you are trying to do."
   ]
  },
  {
   "cell_type": "markdown",
   "id": "cd528f5a",
   "metadata": {},
   "source": [
    "### Scenario 1: Completely new user\n",
    "\n",
    "You have never interacted with CAVE before, you don't think you have an account, and have never setup a computer before with CAVE.\n",
    "\n",
    "In this case you want to.\n",
    "1. Login to CAVE to setup a new account. To do this go to this [website](https://minnie.microns-daf.com/materialize/views/datastack/minnie65_public). \n",
    "2. Sign the terms of service associated with the MICRONS dataset. You should have been prompted to do it with step 1. But just to check go to this website <a href=\"https://global.daf-apis.com/sticky_auth/api/v1/tos/2/accept\"> Microns Public TOS </a>.\n",
    "2. Create a new token\n",
    "3. If codeocean: copy token into a api credential secret, and mount to capsule.  \n",
    "4. If own computer: Save the token to a file on your computer so caveclient can read it\n",
    "\n",
    "If this fits your use case, run the cells below"
   ]
  },
  {
   "cell_type": "code",
   "execution_count": 1,
   "id": "f3a9e4f5",
   "metadata": {},
   "outputs": [
    {
     "name": "stdout",
     "output_type": "stream",
     "text": [
      "New Tokens need to be acquired by hand. Please follow the following steps:\n",
      "                1) Go to: https://global.daf-apis.com/auth/api/v1/create_token to create a new token.\n",
      "                2) Log in with your Google credentials and copy the token shown afterward.\n",
      "                3a) Save it to your computer with: client.auth.save_token(token=\"PASTE_YOUR_TOKEN_HERE\")\n",
      "                or\n",
      "                3b) Set it for the current session only with client.auth.token = \"PASTE_YOUR_TOKEN_HERE\"\n",
      "                Note: If you need to save or load multiple tokens, please read the documentation for details.\n",
      "                Warning! Creating a new token by finishing step 2 will invalidate the previous token!\n"
     ]
    }
   ],
   "source": [
    "# Step 3\n",
    "from caveclient import CAVEclient\n",
    "client = CAVEclient()\n",
    "client.auth.setup_token(make_new=True)"
   ]
  },
  {
   "cell_type": "markdown",
   "id": "7f825fad-d88b-4f0d-a080-dbfb17e02657",
   "metadata": {},
   "source": [
    "## Step 4 (if code ocean)\n",
    "\n",
    "1. Copy token to clipboard\n",
    "2. Click on User Settings icon, left hand side, most of the way down\n",
    "\n",
    "   ![test1](workshop2/images/user_settings.png)\n",
    "\n",
    "   ![test2](images/user_settings.png)\n",
    "\n",
    "   <img src=\"./images/user_settings.png\" alt=\"user settings creds test 3\" width=\"200\"/>\n",
    "   \n",
    "4. Click on User Secrets\n",
    "5. Click on Add Secret>API Credentials in upper right\n",
    "   \n",
    "   <img src=\"./images/api_creds.png\" alt=\"api creds\" width=\"200\"/>\n",
    "6. Give your token a name, put \"CAVE_TOKEN\" for key and your token as value\n",
    "   \n",
    "   <img src=\"./images/cave_token.png\" alt=\"cave token\" width=\"400\"/>\n",
    "\n",
    "7. Click on environment in your capsule\n",
    "\n",
    "   <img src=\"./images/environment.png\" alt=\"environment\" width=\"500\"/>\n",
    "\n",
    "8. Scroll down to the secrets section and select your API credential\n",
    "\n",
    "   <img src=\"./images/secrets.png\" alt=\"secrets\" width=\"700\"/>\n",
    "\n",
    "9. Your CAVE token should now be available in your capsule as an environment variable \"API_SECRET\""
   ]
  },
  {
   "cell_type": "code",
   "execution_count": 3,
   "id": "95acd754-e2f2-4a10-a944-0597f379a681",
   "metadata": {},
   "outputs": [],
   "source": [
    "# uncomment this line to check your token is here. Note, don't check a notebook in that exposes this line\n",
    "import os\n",
    "#os.environ['API_SECRET']"
   ]
  },
  {
   "cell_type": "code",
   "execution_count": null,
   "id": "eababe5c",
   "metadata": {},
   "outputs": [],
   "source": [
    "\n",
    "# STEP 5 (if on local computer)\n",
    "# paste the token after token=\n",
    "client.auth.save_token(token=, overwrite=True)"
   ]
  },
  {
   "cell_type": "code",
   "execution_count": 8,
   "id": "cbfee527",
   "metadata": {},
   "outputs": [],
   "source": [
    "# That's it.. you should be all set. If you did it right this should work.\n",
    "client = CAVEclient('minnie65_public')"
   ]
  },
  {
   "cell_type": "markdown",
   "id": "31597893",
   "metadata": {},
   "source": [
    "### Scenario 2: Existing user, new computer\n",
    "\n",
    "You setup CAVE before and its working well for you on say your laptop, but now you want to use a code ocean instead. You don't want to create a new token, because that would cause your laptop to stop working.\n",
    "\n",
    "In this case you want to.\n",
    "1. find your existing token (we'll send you to a website to login and it will list them)\n",
    "2. setup that token on the new setup\n",
    "   \n",
    "   a) If new setup is code ocean: follow the above steps to setup the token as an environment variable on your capsule\n",
    "   \n",
    "   b) If new setup is a computer: save that token to the new computer using client.auth.save_token"
   ]
  },
  {
   "cell_type": "code",
   "execution_count": 3,
   "id": "40b4cb91",
   "metadata": {},
   "outputs": [
    {
     "name": "stdout",
     "output_type": "stream",
     "text": [
      "Tokens need to be acquired by hand. Please follow the following steps:\n",
      "                1) Go to: https://global.daf-apis.com/auth/api/v1/user/token to view a list of your existing tokens.\n",
      "                2) Log in with your Google credentials copy one of the tokens from the dictionary (the string under the key 'token').\n",
      "                3a) Save it to your computer with: client.auth.save_token(token=\"PASTE_YOUR_TOKEN_HERE\")\n",
      "                or\n",
      "                3b) Set it for the current session only with client.auth.token = \"PASTE_YOUR_TOKEN_HERE\"\n",
      "                Note: If you need to save or load multiple tokens, please read the documentation for details.\n",
      "                if you want to create a new token, or have no token use ```self.get_new_token``` instead\n",
      "                or use this function with the keyword argument make_new=True\n"
     ]
    }
   ],
   "source": [
    "from caveclient import CAVEclient\n",
    "client = CAVEclient()\n",
    "# this will take you to a webpage that will list your tokens\n",
    "# you want the string after the key 'token'\n",
    "client.auth.setup_token(make_new=False)"
   ]
  },
  {
   "cell_type": "markdown",
   "id": "98384a6a-70ea-4fde-9c75-79cca71a208e",
   "metadata": {},
   "source": [
    "## If new setup is Code Ocean\n",
    "\n",
    "### Follow instructions in Step 4 (if code ocean) above ^^^^^"
   ]
  },
  {
   "cell_type": "code",
   "execution_count": null,
   "id": "0b5774fb",
   "metadata": {},
   "outputs": [],
   "source": [
    "# If new setup is a local computer\n",
    "# paste the token string after token=\n",
    "client.auth.save_token(token=, overwrite=True)"
   ]
  },
  {
   "cell_type": "code",
   "execution_count": null,
   "id": "a501c780",
   "metadata": {},
   "outputs": [],
   "source": [
    "# That's it.. you should be all set. If you did it right this should work.\n",
    "client = CAVEclient('minnie65_public')"
   ]
  },
  {
   "cell_type": "markdown",
   "id": "36a9e445",
   "metadata": {},
   "source": [
    "### Scenario 3: Something is wrong\n",
    "\n",
    "You thought you setup CAVE, but now when you try to access a dataset, it tells you are not authorized.\n",
    "This is probably because you aren't using the right token. Here's how you see what your token is.\n"
   ]
  },
  {
   "cell_type": "code",
   "execution_count": 6,
   "id": "3992b33e",
   "metadata": {},
   "outputs": [
    {
     "data": {
      "text/plain": [
       "'ecc4cdc1e70f9080c5452b1d4bd0d0d8'"
      ]
     },
     "execution_count": 6,
     "metadata": {},
     "output_type": "execute_result"
    }
   ],
   "source": [
    "client = CAVEclient()\n",
    "client.auth.token"
   ]
  },
  {
   "cell_type": "markdown",
   "id": "96e60454",
   "metadata": {},
   "source": [
    "Compare that to what you find from following the first step in Scenario 2.  Probably you want to use scenario 2 to setup or re-setup this computer.  For example you might have done Scenario 1 on a second computer, or not copied the token correctly when trying to do Scenario 1. "
   ]
  },
  {
   "cell_type": "markdown",
   "id": "ceec87c9",
   "metadata": {},
   "source": [
    "You may be getting an error related to not signing the terms of service.  Make sure you get a message that you already signed the terms of service when you go to this website.<a href=\"https://global.daf-apis.com/sticky_auth/api/v1/tos/2/accept\"> Microns Public TOS </a>."
   ]
  },
  {
   "cell_type": "code",
   "execution_count": null,
   "id": "d035db6e",
   "metadata": {},
   "outputs": [],
   "source": [
    "# You can run this to see if things are working now\n",
    "client = CAVEclient('minnie65_public')"
   ]
  }
 ],
 "metadata": {
  "kernelspec": {
   "display_name": "Python 3 (ipykernel)",
   "language": "python",
   "name": "python3"
  },
  "language_info": {
   "codemirror_mode": {
    "name": "ipython",
    "version": 3
   },
   "file_extension": ".py",
   "mimetype": "text/x-python",
   "name": "python",
   "nbconvert_exporter": "python",
   "pygments_lexer": "ipython3",
   "version": "3.10.9"
  }
 },
 "nbformat": 4,
 "nbformat_minor": 5
}
