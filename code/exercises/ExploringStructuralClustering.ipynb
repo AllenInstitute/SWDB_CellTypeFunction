{
 "cells": [
  {
   "attachments": {},
   "cell_type": "markdown",
   "metadata": {},
   "source": [
    "<div style=\"border-left: 3px solid #000; padding: 1px; padding-left: 10px; background: #DFF0D8; \">\n",
    "<b> Questions </b>\n",
    "<li> Can we do better by including/excluding some features from the features dataframe? \n",
    "<li> What would happen if we applied k-means clustering to the full dataset instead of the reduced dataset?\n",
    "<li> What would happen if we applied k-means clustering to a UMAP-reduced dataset? \n",
    "<li> When does k-means clustering work well? When does it fail? Look at the different clustering methods and the kinds of data they work on. \n",
    "</div>"
   ]
  },
  {
   "cell_type": "code",
   "execution_count": 15,
   "metadata": {},
   "outputs": [],
   "source": [
    "# Relevant imports\n",
    "import numpy as np\n",
    "\n",
    "%matplotlib inline\n",
    "import pandas as pd\n",
    "\n",
    "# dir handling\n",
    "import os\n",
    "\n",
    "# visualization\n",
    "import matplotlib.pyplot as plt\n",
    "import seaborn as sns"
   ]
  },
  {
   "cell_type": "code",
   "execution_count": 16,
   "metadata": {},
   "outputs": [],
   "source": [
    "# read structural features of excitatory cells\n",
    "feat_df = pd.read_feather('../../workshop1/data/dfct_e.feather')"
   ]
  },
  {
   "cell_type": "code",
   "execution_count": 17,
   "metadata": {},
   "outputs": [],
   "source": [
    "from sklearn.decomposition import PCA"
   ]
  },
  {
   "cell_type": "code",
   "execution_count": 18,
   "metadata": {},
   "outputs": [],
   "source": [
    "# sample list of features that are retained. We are reducing correlated features...\n",
    "# ... but we encourage you to play around with what features to include\n",
    "reduced_for_kmeans = feat_df[[\n",
    "    \"tip_len_dist_dendrite_p50\",\n",
    "    \"tip_tort_dendrite_p50\",\n",
    "    \"num_syn_dendrite\",\n",
    "    \"num_syn_soma\",\n",
    "    \"path_length_dendrite\",\n",
    "    \"radial_extent_dendrite\",\n",
    "    \"syn_dist_distribution_dendrite_p50\",\n",
    "    \"syn_size_distribution_soma_p50\",\n",
    "    \"syn_size_distribution_dendrite_p50\",\n",
    "    \"syn_size_distribution_dendrite_dyn_range\",\n",
    "    \"syn_depth_dist_p5\",\n",
    "    \"syn_depth_dist_p95\",\n",
    "    \"syn_depth_extent\",\n",
    "    \"max_density\",\n",
    "    \"radius_dist\",\n",
    "    \"syn_count_pca0\",\n",
    "    \"syn_count_pca1\",\n",
    "    \"syn_count_pca2\",\n",
    "    \"syn_count_pca3\",\n",
    "    \"syn_count_pca4\",\n",
    "    \"syn_count_pca5\",\n",
    "    \"branch_svd0\",\n",
    "    \"branch_svd1\",\n",
    "    \"branch_svd2\",\n",
    "    \"ego_count_pca0\",\n",
    "    \"ego_count_pca1\",\n",
    "    \"ego_count_pca2\",\n",
    "    \"ego_count_pca3\",\n",
    "    \"ego_count_pca4\",\n",
    "] ]"
   ]
  },
  {
   "cell_type": "code",
   "execution_count": 19,
   "metadata": {},
   "outputs": [],
   "source": [
    "# z-score data\n",
    "from sklearn.preprocessing import StandardScaler\n",
    "\n",
    "# create a scaler object\n",
    "std_scaler = StandardScaler()\n",
    "std_scaler\n",
    "# fit and transform the data\n",
    "reduced_for_kmeans_transformed = pd.DataFrame(std_scaler.fit_transform(reduced_for_kmeans))\n",
    "\n",
    "#reduced_for_kmeans.apply(zscore)\n",
    "PCA_model = PCA(n_components=3)\n",
    "reduced_data = PCA_model.fit_transform(reduced_for_kmeans_transformed)"
   ]
  },
  {
   "cell_type": "code",
   "execution_count": 20,
   "metadata": {},
   "outputs": [],
   "source": [
    "# We will append this to the original dataframe as the PC0, PC1 components\n",
    "feat_df['pc0'] = reduced_data[:,0]\n",
    "feat_df['pc1'] = reduced_data[:,1]\n",
    "feat_df['pc2'] = reduced_data[:,2]"
   ]
  },
  {
   "attachments": {},
   "cell_type": "markdown",
   "metadata": {},
   "source": [
    "<div style=\"border-left: 3px solid #000; padding: 1px; padding-left: 10px; background: #DFF0D8; \">\n",
    "<li> What would happen if we applied k-means clustering to the full dataset instead of the reduced dataset?\n",
    "</div>"
   ]
  },
  {
   "attachments": {},
   "cell_type": "markdown",
   "metadata": {},
   "source": [
    "<div style=\"border-left: 3px solid #000; padding: 1px; padding-left: 10px; background: #DFF0D8; \">\n",
    "<li> What would happen if we applied k-means clustering to a UMAP-reduced dataset? \n",
    "</div>"
   ]
  },
  {
   "cell_type": "code",
   "execution_count": null,
   "metadata": {},
   "outputs": [],
   "source": []
  }
 ],
 "metadata": {
  "kernelspec": {
   "display_name": "swdb2023_EM",
   "language": "python",
   "name": "python3"
  },
  "language_info": {
   "codemirror_mode": {
    "name": "ipython",
    "version": 3
   },
   "file_extension": ".py",
   "mimetype": "text/x-python",
   "name": "python",
   "nbconvert_exporter": "python",
   "pygments_lexer": "ipython3",
   "version": "3.8.10"
  },
  "orig_nbformat": 4
 },
 "nbformat": 4,
 "nbformat_minor": 2
}
